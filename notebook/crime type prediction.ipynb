{
 "cells": [
  {
   "cell_type": "code",
   "execution_count": 21,
   "id": "19a04577",
   "metadata": {},
   "outputs": [],
   "source": [
    "import pandas as pd\n",
    "import numpy as np\n",
    "from sklearn.linear_model import LogisticRegression\n",
    "from sklearn import svm\n",
    "import os\n",
    "parentDirectory = os.path.abspath(os.path.join(os.getcwd(), os.pardir))"
   ]
  },
  {
   "cell_type": "code",
   "execution_count": 22,
   "id": "1710bc8c",
   "metadata": {},
   "outputs": [],
   "source": [
    "df = pd.read_csv(os.path.join(parentDirectory, 'data', 'train.csv'))#,delimiter=';',header=None)"
   ]
  },
  {
   "cell_type": "code",
   "execution_count": 23,
   "id": "bc03d3e1",
   "metadata": {},
   "outputs": [
    {
     "data": {
      "text/html": [
       "<div>\n",
       "<style scoped>\n",
       "    .dataframe tbody tr th:only-of-type {\n",
       "        vertical-align: middle;\n",
       "    }\n",
       "\n",
       "    .dataframe tbody tr th {\n",
       "        vertical-align: top;\n",
       "    }\n",
       "\n",
       "    .dataframe thead th {\n",
       "        text-align: right;\n",
       "    }\n",
       "</style>\n",
       "<table border=\"1\" class=\"dataframe\">\n",
       "  <thead>\n",
       "    <tr style=\"text-align: right;\">\n",
       "      <th></th>\n",
       "      <th>Dates</th>\n",
       "      <th>Category</th>\n",
       "      <th>Descript</th>\n",
       "      <th>DayOfWeek</th>\n",
       "      <th>PdDistrict</th>\n",
       "      <th>Resolution</th>\n",
       "      <th>Address</th>\n",
       "      <th>X</th>\n",
       "      <th>Y</th>\n",
       "    </tr>\n",
       "  </thead>\n",
       "  <tbody>\n",
       "    <tr>\n",
       "      <th>0</th>\n",
       "      <td>2015-05-13 23:53:00</td>\n",
       "      <td>WARRANTS</td>\n",
       "      <td>WARRANT ARREST</td>\n",
       "      <td>Wednesday</td>\n",
       "      <td>NORTHERN</td>\n",
       "      <td>ARREST, BOOKED</td>\n",
       "      <td>OAK ST / LAGUNA ST</td>\n",
       "      <td>-122.425892</td>\n",
       "      <td>37.774599</td>\n",
       "    </tr>\n",
       "    <tr>\n",
       "      <th>1</th>\n",
       "      <td>2015-05-13 23:53:00</td>\n",
       "      <td>OTHER OFFENSES</td>\n",
       "      <td>TRAFFIC VIOLATION ARREST</td>\n",
       "      <td>Wednesday</td>\n",
       "      <td>NORTHERN</td>\n",
       "      <td>ARREST, BOOKED</td>\n",
       "      <td>OAK ST / LAGUNA ST</td>\n",
       "      <td>-122.425892</td>\n",
       "      <td>37.774599</td>\n",
       "    </tr>\n",
       "    <tr>\n",
       "      <th>2</th>\n",
       "      <td>2015-05-13 23:33:00</td>\n",
       "      <td>OTHER OFFENSES</td>\n",
       "      <td>TRAFFIC VIOLATION ARREST</td>\n",
       "      <td>Wednesday</td>\n",
       "      <td>NORTHERN</td>\n",
       "      <td>ARREST, BOOKED</td>\n",
       "      <td>VANNESS AV / GREENWICH ST</td>\n",
       "      <td>-122.424363</td>\n",
       "      <td>37.800414</td>\n",
       "    </tr>\n",
       "    <tr>\n",
       "      <th>3</th>\n",
       "      <td>2015-05-13 23:30:00</td>\n",
       "      <td>LARCENY/THEFT</td>\n",
       "      <td>GRAND THEFT FROM LOCKED AUTO</td>\n",
       "      <td>Wednesday</td>\n",
       "      <td>NORTHERN</td>\n",
       "      <td>NONE</td>\n",
       "      <td>1500 Block of LOMBARD ST</td>\n",
       "      <td>-122.426995</td>\n",
       "      <td>37.800873</td>\n",
       "    </tr>\n",
       "    <tr>\n",
       "      <th>4</th>\n",
       "      <td>2015-05-13 23:30:00</td>\n",
       "      <td>LARCENY/THEFT</td>\n",
       "      <td>GRAND THEFT FROM LOCKED AUTO</td>\n",
       "      <td>Wednesday</td>\n",
       "      <td>PARK</td>\n",
       "      <td>NONE</td>\n",
       "      <td>100 Block of BRODERICK ST</td>\n",
       "      <td>-122.438738</td>\n",
       "      <td>37.771541</td>\n",
       "    </tr>\n",
       "  </tbody>\n",
       "</table>\n",
       "</div>"
      ],
      "text/plain": [
       "                 Dates        Category                      Descript  \\\n",
       "0  2015-05-13 23:53:00        WARRANTS                WARRANT ARREST   \n",
       "1  2015-05-13 23:53:00  OTHER OFFENSES      TRAFFIC VIOLATION ARREST   \n",
       "2  2015-05-13 23:33:00  OTHER OFFENSES      TRAFFIC VIOLATION ARREST   \n",
       "3  2015-05-13 23:30:00   LARCENY/THEFT  GRAND THEFT FROM LOCKED AUTO   \n",
       "4  2015-05-13 23:30:00   LARCENY/THEFT  GRAND THEFT FROM LOCKED AUTO   \n",
       "\n",
       "   DayOfWeek PdDistrict      Resolution                    Address  \\\n",
       "0  Wednesday   NORTHERN  ARREST, BOOKED         OAK ST / LAGUNA ST   \n",
       "1  Wednesday   NORTHERN  ARREST, BOOKED         OAK ST / LAGUNA ST   \n",
       "2  Wednesday   NORTHERN  ARREST, BOOKED  VANNESS AV / GREENWICH ST   \n",
       "3  Wednesday   NORTHERN            NONE   1500 Block of LOMBARD ST   \n",
       "4  Wednesday       PARK            NONE  100 Block of BRODERICK ST   \n",
       "\n",
       "            X          Y  \n",
       "0 -122.425892  37.774599  \n",
       "1 -122.425892  37.774599  \n",
       "2 -122.424363  37.800414  \n",
       "3 -122.426995  37.800873  \n",
       "4 -122.438738  37.771541  "
      ]
     },
     "execution_count": 23,
     "metadata": {},
     "output_type": "execute_result"
    }
   ],
   "source": [
    "df.head()"
   ]
  },
  {
   "cell_type": "code",
   "execution_count": 24,
   "id": "20f1ebec",
   "metadata": {},
   "outputs": [
    {
     "data": {
      "text/html": [
       "<div>\n",
       "<style scoped>\n",
       "    .dataframe tbody tr th:only-of-type {\n",
       "        vertical-align: middle;\n",
       "    }\n",
       "\n",
       "    .dataframe tbody tr th {\n",
       "        vertical-align: top;\n",
       "    }\n",
       "\n",
       "    .dataframe thead th {\n",
       "        text-align: right;\n",
       "    }\n",
       "</style>\n",
       "<table border=\"1\" class=\"dataframe\">\n",
       "  <thead>\n",
       "    <tr style=\"text-align: right;\">\n",
       "      <th></th>\n",
       "      <th>X</th>\n",
       "      <th>Y</th>\n",
       "    </tr>\n",
       "  </thead>\n",
       "  <tbody>\n",
       "    <tr>\n",
       "      <th>count</th>\n",
       "      <td>878049.000000</td>\n",
       "      <td>878049.000000</td>\n",
       "    </tr>\n",
       "    <tr>\n",
       "      <th>mean</th>\n",
       "      <td>-122.422616</td>\n",
       "      <td>37.771020</td>\n",
       "    </tr>\n",
       "    <tr>\n",
       "      <th>std</th>\n",
       "      <td>0.030354</td>\n",
       "      <td>0.456893</td>\n",
       "    </tr>\n",
       "    <tr>\n",
       "      <th>min</th>\n",
       "      <td>-122.513642</td>\n",
       "      <td>37.707879</td>\n",
       "    </tr>\n",
       "    <tr>\n",
       "      <th>25%</th>\n",
       "      <td>-122.432952</td>\n",
       "      <td>37.752427</td>\n",
       "    </tr>\n",
       "    <tr>\n",
       "      <th>50%</th>\n",
       "      <td>-122.416420</td>\n",
       "      <td>37.775421</td>\n",
       "    </tr>\n",
       "    <tr>\n",
       "      <th>75%</th>\n",
       "      <td>-122.406959</td>\n",
       "      <td>37.784369</td>\n",
       "    </tr>\n",
       "    <tr>\n",
       "      <th>max</th>\n",
       "      <td>-120.500000</td>\n",
       "      <td>90.000000</td>\n",
       "    </tr>\n",
       "  </tbody>\n",
       "</table>\n",
       "</div>"
      ],
      "text/plain": [
       "                   X              Y\n",
       "count  878049.000000  878049.000000\n",
       "mean     -122.422616      37.771020\n",
       "std         0.030354       0.456893\n",
       "min      -122.513642      37.707879\n",
       "25%      -122.432952      37.752427\n",
       "50%      -122.416420      37.775421\n",
       "75%      -122.406959      37.784369\n",
       "max      -120.500000      90.000000"
      ]
     },
     "execution_count": 24,
     "metadata": {},
     "output_type": "execute_result"
    }
   ],
   "source": [
    "df.describe()"
   ]
  },
  {
   "cell_type": "code",
   "execution_count": 25,
   "id": "0acac676",
   "metadata": {},
   "outputs": [
    {
     "data": {
      "text/plain": [
       "Dates          object\n",
       "Category       object\n",
       "Descript       object\n",
       "DayOfWeek      object\n",
       "PdDistrict     object\n",
       "Resolution     object\n",
       "Address        object\n",
       "X             float64\n",
       "Y             float64\n",
       "dtype: object"
      ]
     },
     "execution_count": 25,
     "metadata": {},
     "output_type": "execute_result"
    }
   ],
   "source": [
    "df.dtypes"
   ]
  },
  {
   "cell_type": "code",
   "execution_count": 26,
   "id": "74a81736",
   "metadata": {},
   "outputs": [],
   "source": [
    "dfsel=df[['PdDistrict','DayOfWeek','X','Y','Category']]"
   ]
  },
  {
   "cell_type": "code",
   "execution_count": 27,
   "id": "8965b53f",
   "metadata": {
    "scrolled": true
   },
   "outputs": [
    {
     "data": {
      "text/html": [
       "<div>\n",
       "<style scoped>\n",
       "    .dataframe tbody tr th:only-of-type {\n",
       "        vertical-align: middle;\n",
       "    }\n",
       "\n",
       "    .dataframe tbody tr th {\n",
       "        vertical-align: top;\n",
       "    }\n",
       "\n",
       "    .dataframe thead th {\n",
       "        text-align: right;\n",
       "    }\n",
       "</style>\n",
       "<table border=\"1\" class=\"dataframe\">\n",
       "  <thead>\n",
       "    <tr style=\"text-align: right;\">\n",
       "      <th></th>\n",
       "      <th>PdDistrict</th>\n",
       "      <th>DayOfWeek</th>\n",
       "      <th>X</th>\n",
       "      <th>Y</th>\n",
       "      <th>Category</th>\n",
       "    </tr>\n",
       "  </thead>\n",
       "  <tbody>\n",
       "    <tr>\n",
       "      <th>0</th>\n",
       "      <td>NORTHERN</td>\n",
       "      <td>Wednesday</td>\n",
       "      <td>-122.425892</td>\n",
       "      <td>37.774599</td>\n",
       "      <td>WARRANTS</td>\n",
       "    </tr>\n",
       "    <tr>\n",
       "      <th>1</th>\n",
       "      <td>NORTHERN</td>\n",
       "      <td>Wednesday</td>\n",
       "      <td>-122.425892</td>\n",
       "      <td>37.774599</td>\n",
       "      <td>OTHER OFFENSES</td>\n",
       "    </tr>\n",
       "    <tr>\n",
       "      <th>2</th>\n",
       "      <td>NORTHERN</td>\n",
       "      <td>Wednesday</td>\n",
       "      <td>-122.424363</td>\n",
       "      <td>37.800414</td>\n",
       "      <td>OTHER OFFENSES</td>\n",
       "    </tr>\n",
       "    <tr>\n",
       "      <th>3</th>\n",
       "      <td>NORTHERN</td>\n",
       "      <td>Wednesday</td>\n",
       "      <td>-122.426995</td>\n",
       "      <td>37.800873</td>\n",
       "      <td>LARCENY/THEFT</td>\n",
       "    </tr>\n",
       "    <tr>\n",
       "      <th>4</th>\n",
       "      <td>PARK</td>\n",
       "      <td>Wednesday</td>\n",
       "      <td>-122.438738</td>\n",
       "      <td>37.771541</td>\n",
       "      <td>LARCENY/THEFT</td>\n",
       "    </tr>\n",
       "    <tr>\n",
       "      <th>...</th>\n",
       "      <td>...</td>\n",
       "      <td>...</td>\n",
       "      <td>...</td>\n",
       "      <td>...</td>\n",
       "      <td>...</td>\n",
       "    </tr>\n",
       "    <tr>\n",
       "      <th>878044</th>\n",
       "      <td>TARAVAL</td>\n",
       "      <td>Monday</td>\n",
       "      <td>-122.459033</td>\n",
       "      <td>37.714056</td>\n",
       "      <td>ROBBERY</td>\n",
       "    </tr>\n",
       "    <tr>\n",
       "      <th>878045</th>\n",
       "      <td>INGLESIDE</td>\n",
       "      <td>Monday</td>\n",
       "      <td>-122.447364</td>\n",
       "      <td>37.731948</td>\n",
       "      <td>LARCENY/THEFT</td>\n",
       "    </tr>\n",
       "    <tr>\n",
       "      <th>878046</th>\n",
       "      <td>SOUTHERN</td>\n",
       "      <td>Monday</td>\n",
       "      <td>-122.403390</td>\n",
       "      <td>37.780266</td>\n",
       "      <td>LARCENY/THEFT</td>\n",
       "    </tr>\n",
       "    <tr>\n",
       "      <th>878047</th>\n",
       "      <td>SOUTHERN</td>\n",
       "      <td>Monday</td>\n",
       "      <td>-122.390531</td>\n",
       "      <td>37.780607</td>\n",
       "      <td>VANDALISM</td>\n",
       "    </tr>\n",
       "    <tr>\n",
       "      <th>878048</th>\n",
       "      <td>BAYVIEW</td>\n",
       "      <td>Monday</td>\n",
       "      <td>-122.394926</td>\n",
       "      <td>37.738212</td>\n",
       "      <td>FORGERY/COUNTERFEITING</td>\n",
       "    </tr>\n",
       "  </tbody>\n",
       "</table>\n",
       "<p>878049 rows × 5 columns</p>\n",
       "</div>"
      ],
      "text/plain": [
       "       PdDistrict  DayOfWeek           X          Y                Category\n",
       "0        NORTHERN  Wednesday -122.425892  37.774599                WARRANTS\n",
       "1        NORTHERN  Wednesday -122.425892  37.774599          OTHER OFFENSES\n",
       "2        NORTHERN  Wednesday -122.424363  37.800414          OTHER OFFENSES\n",
       "3        NORTHERN  Wednesday -122.426995  37.800873           LARCENY/THEFT\n",
       "4            PARK  Wednesday -122.438738  37.771541           LARCENY/THEFT\n",
       "...           ...        ...         ...        ...                     ...\n",
       "878044    TARAVAL     Monday -122.459033  37.714056                 ROBBERY\n",
       "878045  INGLESIDE     Monday -122.447364  37.731948           LARCENY/THEFT\n",
       "878046   SOUTHERN     Monday -122.403390  37.780266           LARCENY/THEFT\n",
       "878047   SOUTHERN     Monday -122.390531  37.780607               VANDALISM\n",
       "878048    BAYVIEW     Monday -122.394926  37.738212  FORGERY/COUNTERFEITING\n",
       "\n",
       "[878049 rows x 5 columns]"
      ]
     },
     "execution_count": 27,
     "metadata": {},
     "output_type": "execute_result"
    }
   ],
   "source": [
    "dfsel.dropna()"
   ]
  },
  {
   "cell_type": "code",
   "execution_count": 28,
   "id": "4e72387e",
   "metadata": {},
   "outputs": [
    {
     "name": "stderr",
     "output_type": "stream",
     "text": [
      "<ipython-input-28-349a727cb2de>:2: SettingWithCopyWarning: \n",
      "A value is trying to be set on a copy of a slice from a DataFrame.\n",
      "Try using .loc[row_indexer,col_indexer] = value instead\n",
      "\n",
      "See the caveats in the documentation: https://pandas.pydata.org/pandas-docs/stable/user_guide/indexing.html#returning-a-view-versus-a-copy\n",
      "  dfsel[i] = pd.factorize(dfsel[i])[0].astype(np.uint16)\n"
     ]
    }
   ],
   "source": [
    "for i in ['PdDistrict','DayOfWeek','Category']:\n",
    "    dfsel[i] = pd.factorize(dfsel[i])[0].astype(np.uint16)"
   ]
  },
  {
   "cell_type": "code",
   "execution_count": 29,
   "id": "86fc46ea",
   "metadata": {
    "scrolled": true
   },
   "outputs": [
    {
     "data": {
      "text/plain": [
       "array([[<AxesSubplot:title={'center':'Category'}>]], dtype=object)"
      ]
     },
     "execution_count": 29,
     "metadata": {},
     "output_type": "execute_result"
    },
    {
     "data": {
      "image/png": "[encoded data removed]",
      "text/plain": [
       "<Figure size 432x288 with 1 Axes>"
      ]
     },
     "metadata": {
      "needs_background": "light"
     },
     "output_type": "display_data"
    }
   ],
   "source": [
    "dfsel.hist(column='Category')"
   ]
  },
  {
   "cell_type": "code",
   "execution_count": 30,
   "id": "8c9c62fc",
   "metadata": {},
   "outputs": [],
   "source": [
    "dfsel=dfsel[dfsel['Category']<4].sample(frac=0.4, random_state=1)"
   ]
  },
  {
   "cell_type": "code",
   "execution_count": 31,
   "id": "3e5ed021",
   "metadata": {},
   "outputs": [
    {
     "data": {
      "text/html": [
       "<div>\n",
       "<style scoped>\n",
       "    .dataframe tbody tr th:only-of-type {\n",
       "        vertical-align: middle;\n",
       "    }\n",
       "\n",
       "    .dataframe tbody tr th {\n",
       "        vertical-align: top;\n",
       "    }\n",
       "\n",
       "    .dataframe thead th {\n",
       "        text-align: right;\n",
       "    }\n",
       "</style>\n",
       "<table border=\"1\" class=\"dataframe\">\n",
       "  <thead>\n",
       "    <tr style=\"text-align: right;\">\n",
       "      <th></th>\n",
       "      <th>PdDistrict</th>\n",
       "      <th>DayOfWeek</th>\n",
       "      <th>X</th>\n",
       "      <th>Y</th>\n",
       "      <th>Category</th>\n",
       "    </tr>\n",
       "  </thead>\n",
       "  <tbody>\n",
       "    <tr>\n",
       "      <th>434320</th>\n",
       "      <td>9</td>\n",
       "      <td>0</td>\n",
       "      <td>-122.408518</td>\n",
       "      <td>37.773760</td>\n",
       "      <td>2</td>\n",
       "    </tr>\n",
       "    <tr>\n",
       "      <th>7715</th>\n",
       "      <td>0</td>\n",
       "      <td>5</td>\n",
       "      <td>-122.424437</td>\n",
       "      <td>37.775740</td>\n",
       "      <td>2</td>\n",
       "    </tr>\n",
       "    <tr>\n",
       "      <th>604983</th>\n",
       "      <td>0</td>\n",
       "      <td>2</td>\n",
       "      <td>-122.426964</td>\n",
       "      <td>37.788327</td>\n",
       "      <td>3</td>\n",
       "    </tr>\n",
       "    <tr>\n",
       "      <th>151394</th>\n",
       "      <td>8</td>\n",
       "      <td>1</td>\n",
       "      <td>-122.438811</td>\n",
       "      <td>37.753827</td>\n",
       "      <td>2</td>\n",
       "    </tr>\n",
       "    <tr>\n",
       "      <th>280733</th>\n",
       "      <td>2</td>\n",
       "      <td>5</td>\n",
       "      <td>-122.452569</td>\n",
       "      <td>37.708489</td>\n",
       "      <td>1</td>\n",
       "    </tr>\n",
       "    <tr>\n",
       "      <th>...</th>\n",
       "      <td>...</td>\n",
       "      <td>...</td>\n",
       "      <td>...</td>\n",
       "      <td>...</td>\n",
       "      <td>...</td>\n",
       "    </tr>\n",
       "    <tr>\n",
       "      <th>361924</th>\n",
       "      <td>2</td>\n",
       "      <td>0</td>\n",
       "      <td>-122.403663</td>\n",
       "      <td>37.712696</td>\n",
       "      <td>2</td>\n",
       "    </tr>\n",
       "    <tr>\n",
       "      <th>296393</th>\n",
       "      <td>6</td>\n",
       "      <td>0</td>\n",
       "      <td>-122.467123</td>\n",
       "      <td>37.760263</td>\n",
       "      <td>0</td>\n",
       "    </tr>\n",
       "    <tr>\n",
       "      <th>127279</th>\n",
       "      <td>6</td>\n",
       "      <td>0</td>\n",
       "      <td>-122.476490</td>\n",
       "      <td>37.753286</td>\n",
       "      <td>1</td>\n",
       "    </tr>\n",
       "    <tr>\n",
       "      <th>714250</th>\n",
       "      <td>9</td>\n",
       "      <td>2</td>\n",
       "      <td>-122.408163</td>\n",
       "      <td>37.780535</td>\n",
       "      <td>0</td>\n",
       "    </tr>\n",
       "    <tr>\n",
       "      <th>58493</th>\n",
       "      <td>9</td>\n",
       "      <td>0</td>\n",
       "      <td>-122.391425</td>\n",
       "      <td>37.777873</td>\n",
       "      <td>2</td>\n",
       "    </tr>\n",
       "  </tbody>\n",
       "</table>\n",
       "<p>158831 rows × 5 columns</p>\n",
       "</div>"
      ],
      "text/plain": [
       "        PdDistrict  DayOfWeek           X          Y  Category\n",
       "434320           9          0 -122.408518  37.773760         2\n",
       "7715             0          5 -122.424437  37.775740         2\n",
       "604983           0          2 -122.426964  37.788327         3\n",
       "151394           8          1 -122.438811  37.753827         2\n",
       "280733           2          5 -122.452569  37.708489         1\n",
       "...            ...        ...         ...        ...       ...\n",
       "361924           2          0 -122.403663  37.712696         2\n",
       "296393           6          0 -122.467123  37.760263         0\n",
       "127279           6          0 -122.476490  37.753286         1\n",
       "714250           9          2 -122.408163  37.780535         0\n",
       "58493            9          0 -122.391425  37.777873         2\n",
       "\n",
       "[158831 rows x 5 columns]"
      ]
     },
     "execution_count": 31,
     "metadata": {},
     "output_type": "execute_result"
    }
   ],
   "source": [
    "dfsel"
   ]
  },
  {
   "cell_type": "code",
   "execution_count": 32,
   "id": "98bec263",
   "metadata": {},
   "outputs": [],
   "source": [
    "dfsel.to_csv(os.path.join(parentDirectory, 'data', 'train_clean.csv'))"
   ]
  },
  {
   "cell_type": "code",
   "execution_count": 33,
   "id": "2f1846f0",
   "metadata": {},
   "outputs": [],
   "source": [
    "by=dfsel[['Category']].copy()\n",
    "bX=dfsel.drop(columns=['Category'])"
   ]
  },
  {
   "cell_type": "code",
   "execution_count": 34,
   "id": "52b00cae",
   "metadata": {},
   "outputs": [
    {
     "data": {
      "text/html": [
       "<div>\n",
       "<style scoped>\n",
       "    .dataframe tbody tr th:only-of-type {\n",
       "        vertical-align: middle;\n",
       "    }\n",
       "\n",
       "    .dataframe tbody tr th {\n",
       "        vertical-align: top;\n",
       "    }\n",
       "\n",
       "    .dataframe thead th {\n",
       "        text-align: right;\n",
       "    }\n",
       "</style>\n",
       "<table border=\"1\" class=\"dataframe\">\n",
       "  <thead>\n",
       "    <tr style=\"text-align: right;\">\n",
       "      <th></th>\n",
       "      <th>Category</th>\n",
       "    </tr>\n",
       "  </thead>\n",
       "  <tbody>\n",
       "    <tr>\n",
       "      <th>434320</th>\n",
       "      <td>2</td>\n",
       "    </tr>\n",
       "    <tr>\n",
       "      <th>7715</th>\n",
       "      <td>2</td>\n",
       "    </tr>\n",
       "    <tr>\n",
       "      <th>604983</th>\n",
       "      <td>3</td>\n",
       "    </tr>\n",
       "    <tr>\n",
       "      <th>151394</th>\n",
       "      <td>2</td>\n",
       "    </tr>\n",
       "    <tr>\n",
       "      <th>280733</th>\n",
       "      <td>1</td>\n",
       "    </tr>\n",
       "    <tr>\n",
       "      <th>...</th>\n",
       "      <td>...</td>\n",
       "    </tr>\n",
       "    <tr>\n",
       "      <th>361924</th>\n",
       "      <td>2</td>\n",
       "    </tr>\n",
       "    <tr>\n",
       "      <th>296393</th>\n",
       "      <td>0</td>\n",
       "    </tr>\n",
       "    <tr>\n",
       "      <th>127279</th>\n",
       "      <td>1</td>\n",
       "    </tr>\n",
       "    <tr>\n",
       "      <th>714250</th>\n",
       "      <td>0</td>\n",
       "    </tr>\n",
       "    <tr>\n",
       "      <th>58493</th>\n",
       "      <td>2</td>\n",
       "    </tr>\n",
       "  </tbody>\n",
       "</table>\n",
       "<p>158831 rows × 1 columns</p>\n",
       "</div>"
      ],
      "text/plain": [
       "        Category\n",
       "434320         2\n",
       "7715           2\n",
       "604983         3\n",
       "151394         2\n",
       "280733         1\n",
       "...          ...\n",
       "361924         2\n",
       "296393         0\n",
       "127279         1\n",
       "714250         0\n",
       "58493          2\n",
       "\n",
       "[158831 rows x 1 columns]"
      ]
     },
     "execution_count": 34,
     "metadata": {},
     "output_type": "execute_result"
    }
   ],
   "source": [
    "by"
   ]
  },
  {
   "cell_type": "code",
   "execution_count": 35,
   "id": "42d3f22a",
   "metadata": {},
   "outputs": [
    {
     "data": {
      "text/html": [
       "<div>\n",
       "<style scoped>\n",
       "    .dataframe tbody tr th:only-of-type {\n",
       "        vertical-align: middle;\n",
       "    }\n",
       "\n",
       "    .dataframe tbody tr th {\n",
       "        vertical-align: top;\n",
       "    }\n",
       "\n",
       "    .dataframe thead th {\n",
       "        text-align: right;\n",
       "    }\n",
       "</style>\n",
       "<table border=\"1\" class=\"dataframe\">\n",
       "  <thead>\n",
       "    <tr style=\"text-align: right;\">\n",
       "      <th></th>\n",
       "      <th>PdDistrict</th>\n",
       "      <th>DayOfWeek</th>\n",
       "      <th>X</th>\n",
       "      <th>Y</th>\n",
       "    </tr>\n",
       "  </thead>\n",
       "  <tbody>\n",
       "    <tr>\n",
       "      <th>434320</th>\n",
       "      <td>9</td>\n",
       "      <td>0</td>\n",
       "      <td>-122.408518</td>\n",
       "      <td>37.773760</td>\n",
       "    </tr>\n",
       "    <tr>\n",
       "      <th>7715</th>\n",
       "      <td>0</td>\n",
       "      <td>5</td>\n",
       "      <td>-122.424437</td>\n",
       "      <td>37.775740</td>\n",
       "    </tr>\n",
       "    <tr>\n",
       "      <th>604983</th>\n",
       "      <td>0</td>\n",
       "      <td>2</td>\n",
       "      <td>-122.426964</td>\n",
       "      <td>37.788327</td>\n",
       "    </tr>\n",
       "    <tr>\n",
       "      <th>151394</th>\n",
       "      <td>8</td>\n",
       "      <td>1</td>\n",
       "      <td>-122.438811</td>\n",
       "      <td>37.753827</td>\n",
       "    </tr>\n",
       "    <tr>\n",
       "      <th>280733</th>\n",
       "      <td>2</td>\n",
       "      <td>5</td>\n",
       "      <td>-122.452569</td>\n",
       "      <td>37.708489</td>\n",
       "    </tr>\n",
       "    <tr>\n",
       "      <th>...</th>\n",
       "      <td>...</td>\n",
       "      <td>...</td>\n",
       "      <td>...</td>\n",
       "      <td>...</td>\n",
       "    </tr>\n",
       "    <tr>\n",
       "      <th>361924</th>\n",
       "      <td>2</td>\n",
       "      <td>0</td>\n",
       "      <td>-122.403663</td>\n",
       "      <td>37.712696</td>\n",
       "    </tr>\n",
       "    <tr>\n",
       "      <th>296393</th>\n",
       "      <td>6</td>\n",
       "      <td>0</td>\n",
       "      <td>-122.467123</td>\n",
       "      <td>37.760263</td>\n",
       "    </tr>\n",
       "    <tr>\n",
       "      <th>127279</th>\n",
       "      <td>6</td>\n",
       "      <td>0</td>\n",
       "      <td>-122.476490</td>\n",
       "      <td>37.753286</td>\n",
       "    </tr>\n",
       "    <tr>\n",
       "      <th>714250</th>\n",
       "      <td>9</td>\n",
       "      <td>2</td>\n",
       "      <td>-122.408163</td>\n",
       "      <td>37.780535</td>\n",
       "    </tr>\n",
       "    <tr>\n",
       "      <th>58493</th>\n",
       "      <td>9</td>\n",
       "      <td>0</td>\n",
       "      <td>-122.391425</td>\n",
       "      <td>37.777873</td>\n",
       "    </tr>\n",
       "  </tbody>\n",
       "</table>\n",
       "<p>158831 rows × 4 columns</p>\n",
       "</div>"
      ],
      "text/plain": [
       "        PdDistrict  DayOfWeek           X          Y\n",
       "434320           9          0 -122.408518  37.773760\n",
       "7715             0          5 -122.424437  37.775740\n",
       "604983           0          2 -122.426964  37.788327\n",
       "151394           8          1 -122.438811  37.753827\n",
       "280733           2          5 -122.452569  37.708489\n",
       "...            ...        ...         ...        ...\n",
       "361924           2          0 -122.403663  37.712696\n",
       "296393           6          0 -122.467123  37.760263\n",
       "127279           6          0 -122.476490  37.753286\n",
       "714250           9          2 -122.408163  37.780535\n",
       "58493            9          0 -122.391425  37.777873\n",
       "\n",
       "[158831 rows x 4 columns]"
      ]
     },
     "execution_count": 35,
     "metadata": {},
     "output_type": "execute_result"
    }
   ],
   "source": [
    "bX"
   ]
  },
  {
   "cell_type": "code",
   "execution_count": 36,
   "id": "9cf6c737",
   "metadata": {},
   "outputs": [
    {
     "name": "stderr",
     "output_type": "stream",
     "text": [
      "C:\\Users\\kumaran\\envs\\env1\\lib\\site-packages\\sklearn\\utils\\validation.py:72: DataConversionWarning: A column-vector y was passed when a 1d array was expected. Please change the shape of y to (n_samples, ), for example using ravel().\n",
      "  return f(**kwargs)\n"
     ]
    },
    {
     "name": "stdout",
     "output_type": "stream",
     "text": [
      "0.44009670656232097\n"
     ]
    },
    {
     "name": "stderr",
     "output_type": "stream",
     "text": [
      "C:\\Users\\kumaran\\envs\\env1\\lib\\site-packages\\sklearn\\linear_model\\_logistic.py:762: ConvergenceWarning: lbfgs failed to converge (status=1):\n",
      "STOP: TOTAL NO. of ITERATIONS REACHED LIMIT.\n",
      "\n",
      "Increase the number of iterations (max_iter) or scale the data as shown in:\n",
      "    https://scikit-learn.org/stable/modules/preprocessing.html\n",
      "Please also refer to the documentation for alternative solver options:\n",
      "    https://scikit-learn.org/stable/modules/linear_model.html#logistic-regression\n",
      "  n_iter_i = _check_optimize_result(\n"
     ]
    }
   ],
   "source": [
    "bclf = LogisticRegression()\n",
    "bclf.fit(bX, by)#,solver='newton-cg' ,solver='liblinear' random_state=0, \n",
    "print(bclf.score(bX, by))"
   ]
  },
  {
   "cell_type": "code",
   "execution_count": 37,
   "id": "43344195",
   "metadata": {},
   "outputs": [
    {
     "name": "stderr",
     "output_type": "stream",
     "text": [
      "<ipython-input-37-d174efb23c76>:4: DataConversionWarning: A column-vector y was passed when a 1d array was expected. Please change the shape of y to (n_samples, ), for example using ravel().\n",
      "  neigh.fit(bX, by)\n"
     ]
    },
    {
     "name": "stdout",
     "output_type": "stream",
     "text": [
      "0.6250165270003967\n"
     ]
    }
   ],
   "source": [
    "from sklearn.neighbors import KNeighborsClassifier\n",
    "neigh = KNeighborsClassifier(n_neighbors=3)\n",
    "#fit model\n",
    "neigh.fit(bX, by)\n",
    "print(neigh.score(bX, by))"
   ]
  },
  {
   "cell_type": "code",
   "execution_count": 38,
   "id": "f04b313d",
   "metadata": {},
   "outputs": [],
   "source": [
    "import pickle\n",
    "pickle.dump(neigh, open(\"knnmod1.dat\", 'wb'))"
   ]
  },
  {
   "cell_type": "code",
   "execution_count": null,
   "id": "4a84d8c5",
   "metadata": {},
   "outputs": [
    {
     "name": "stdout",
     "output_type": "stream",
     "text": [
      "--------------------kernel 0:linear--------------------\n",
      "____________________ SVR ____________________\n"
     ]
    },
    {
     "name": "stderr",
     "output_type": "stream",
     "text": [
      "C:\\Users\\kumaran\\envs\\env1\\lib\\site-packages\\sklearn\\utils\\validation.py:72: DataConversionWarning: A column-vector y was passed when a 1d array was expected. Please change the shape of y to (n_samples, ), for example using ravel().\n",
      "  return f(**kwargs)\n"
     ]
    }
   ],
   "source": [
    "for i in range(len(mlst)):\n",
    "\n",
    "    print('-'*20+\"kernel \"+str(i)+\":\"+krn[i]+'-'*20)\n",
    "    \n",
    "    neigh = mlst[i]\n",
    "    print(\"_\"*20,type(neigh).__name__,\"_\"*20)\n",
    "    neigh.fit(bX, by)\n",
    "    print(neigh.score(bX, by))"
   ]
  },
  {
   "cell_type": "code",
   "execution_count": 17,
   "id": "bde2ff5c",
   "metadata": {},
   "outputs": [],
   "source": [
    "from sklearn import svm\n",
    "mlst=[]\n",
    "krn=[ \"linear\", \"poly\"]#kernels\n",
    "for j in krn:\n",
    "    mlst.append(svm.SVR(kernel=j))#new model append with kernel\n"
   ]
  },
  {
   "cell_type": "code",
   "execution_count": null,
   "id": "dc26c54f",
   "metadata": {},
   "outputs": [],
   "source": []
  }
 ],
 "metadata": {
  "kernelspec": {
   "display_name": "env1",
   "language": "python",
   "name": "env1"
  },
  "language_info": {
   "codemirror_mode": {
    "name": "ipython",
    "version": 3
   },
   "file_extension": ".py",
   "mimetype": "text/x-python",
   "name": "python",
   "nbconvert_exporter": "python",
   "pygments_lexer": "ipython3",
   "version": "3.8.5"
  }
 },
 "nbformat": 4,
 "nbformat_minor": 5
}
